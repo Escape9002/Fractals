{
 "cells": [
  {
   "cell_type": "markdown",
   "metadata": {},
   "source": [
    "# Create Mandelbrotset JPGs\n",
    "Keep your file-paths in mind! \n"
   ]
  },
  {
   "cell_type": "code",
   "execution_count": 1,
   "metadata": {},
   "outputs": [
    {
     "name": "stdout",
     "output_type": "stream",
     "text": [
      "Requirement already satisfied: numpy in c:\\users\\anton\\_github\\uni\\testing\\.venv\\lib\\site-packages (2.1.2)\n",
      "Requirement already satisfied: matplotlib in c:\\users\\anton\\_github\\uni\\testing\\.venv\\lib\\site-packages (3.9.2)\n",
      "Requirement already satisfied: contourpy>=1.0.1 in c:\\users\\anton\\_github\\uni\\testing\\.venv\\lib\\site-packages (from matplotlib) (1.3.0)\n",
      "Requirement already satisfied: cycler>=0.10 in c:\\users\\anton\\_github\\uni\\testing\\.venv\\lib\\site-packages (from matplotlib) (0.12.1)\n",
      "Requirement already satisfied: fonttools>=4.22.0 in c:\\users\\anton\\_github\\uni\\testing\\.venv\\lib\\site-packages (from matplotlib) (4.54.1)\n",
      "Requirement already satisfied: kiwisolver>=1.3.1 in c:\\users\\anton\\_github\\uni\\testing\\.venv\\lib\\site-packages (from matplotlib) (1.4.7)\n",
      "Requirement already satisfied: packaging>=20.0 in c:\\users\\anton\\_github\\uni\\testing\\.venv\\lib\\site-packages (from matplotlib) (24.1)\n",
      "Requirement already satisfied: pillow>=8 in c:\\users\\anton\\_github\\uni\\testing\\.venv\\lib\\site-packages (from matplotlib) (11.0.0)\n",
      "Requirement already satisfied: pyparsing>=2.3.1 in c:\\users\\anton\\_github\\uni\\testing\\.venv\\lib\\site-packages (from matplotlib) (3.2.0)\n",
      "Requirement already satisfied: python-dateutil>=2.7 in c:\\users\\anton\\_github\\uni\\testing\\.venv\\lib\\site-packages (from matplotlib) (2.9.0.post0)\n",
      "Requirement already satisfied: six>=1.5 in c:\\users\\anton\\_github\\uni\\testing\\.venv\\lib\\site-packages (from python-dateutil>=2.7->matplotlib) (1.16.0)\n",
      "Note: you may need to restart the kernel to use updated packages.\n"
     ]
    }
   ],
   "source": [
    "%pip install numpy matplotlib"
   ]
  },
  {
   "cell_type": "code",
   "execution_count": 2,
   "metadata": {},
   "outputs": [],
   "source": [
    "from multiprocessing import Pool\n",
    "import multiprocessing\n",
    "\n",
    "import time\n",
    "from PIL import Image\n",
    "import colorsys\n",
    "import math"
   ]
  },
  {
   "cell_type": "code",
   "execution_count": null,
   "metadata": {},
   "outputs": [],
   "source": [
    "\n",
    "px, py = -0.7746806106269039, -0.1374168856037867 #Tante Renate\n",
    "max_iteration = 2500\n",
    "w, h = 1024,1024\n",
    "folder = \"Mandelbrot_jpg\\\\\"\n"
   ]
  },
  {
   "cell_type": "code",
   "execution_count": 4,
   "metadata": {},
   "outputs": [],
   "source": [
    "\n",
    "def Mandelbrot(x,y,max_iteration,minx,maxx,miny,maxy, R):\n",
    "    zx = 0\n",
    "    zy = 0\n",
    "    RX1, RX2, RY1, RY2 = px-R/2, px+R/2,py-R/2,py+R/2\n",
    "    cx = (x-minx)/(maxx-minx)*(RX2-RX1)+RX1\n",
    "    cy = (y-miny)/(maxy-miny)*(RY2-RY1)+RY1\n",
    "    i=0\n",
    "    while zx**2 + zy**2 <= 4 and i < max_iteration:\n",
    "        temp = zx**2 - zy**2\n",
    "        zy = 2*zx*zy + cy\n",
    "        zx = temp + cx\n",
    "        i += 1\n",
    "    return i\n",
    "\n",
    "def gen_Mandelbrot_image(sequence, mfactor, R):\n",
    "  bitmap = Image.new(\"RGB\", (w, h), \"white\")\n",
    "  pix = bitmap.load()\n",
    "  for x in range(w):\n",
    "    for y in range(h):\n",
    "      c=Mandelbrot(x,y,max_iteration,0,w-1,0,h-1, R)\n",
    "      v = c**mfactor/max_iteration**mfactor\n",
    "      hv = 0.67-v\n",
    "      if hv<0: hv+=1\n",
    "      r,g,b = colorsys.hsv_to_rgb(hv,1,1-(v-0.1)**2/0.9**2)\n",
    "      r = min(255,round(r*255))\n",
    "      g = min(255,round(g*255))\n",
    "      b = min(255,round(b*255))\n",
    "      pix[x,y] = int(r) + (int(g) << 8) + (int(b) << 16)\n",
    "  bitmap.save(folder+\"Mandelbrot_\"+str(sequence)+\".jpg\")"
   ]
  },
  {
   "cell_type": "code",
   "execution_count": 5,
   "metadata": {},
   "outputs": [],
   "source": [
    "def work_log(work_data):\n",
    "    print(\" sequence %s for %s mfactor with %s R\" % (work_data[0], work_data[1], work_data[2]))\n",
    "    start = time.time()\n",
    "    gen_Mandelbrot_image(work_data[0], work_data[1], work_data[2])\n",
    "    end = time.time()\n",
    "    print(\" Process %s Finished. Elapsed time: %s\" % (work_data[0], (end-start)))\n",
    "\n",
    "\n",
    "def pool_handler(work):\n",
    "    p = Pool(multiprocessing.cpu_count()-8)\n",
    "    p.map(work_log, work)\n"
   ]
  },
  {
   "cell_type": "code",
   "execution_count": null,
   "metadata": {},
   "outputs": [
    {
     "name": "stdout",
     "output_type": "stream",
     "text": [
      "[[1, 0.5565311570585691, 3], [2, 0.5566744628894502, 2.925]]\n"
     ]
    }
   ],
   "source": [
    "work = list()\n",
    "R=3\n",
    "f = 0.975\n",
    "RZF = 1/1000000000000\n",
    "k=1\n",
    "while R>RZF:\n",
    "    if k>2: break\n",
    "    mfactor = 0.5 + (1/1000000000000)**0.1/R**0.1\n",
    "    work.append([k,mfactor, R])\n",
    "\n",
    "    R *= f\n",
    "    k+=1\n",
    "print(work)\n",
    "start_total = time.time()\n",
    "pool_handler(work)\n",
    "end_total = time.time()\n",
    "print(\"Process finished, elapsed time: %s\" % (end_total-start_total))"
   ]
  }
 ],
 "metadata": {
  "kernelspec": {
   "display_name": ".venv",
   "language": "python",
   "name": "python3"
  },
  "language_info": {
   "codemirror_mode": {
    "name": "ipython",
    "version": 3
   },
   "file_extension": ".py",
   "mimetype": "text/x-python",
   "name": "python",
   "nbconvert_exporter": "python",
   "pygments_lexer": "ipython3",
   "version": "3.13.0"
  }
 },
 "nbformat": 4,
 "nbformat_minor": 2
}
